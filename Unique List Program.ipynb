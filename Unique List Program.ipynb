{
 "cells": [
  {
   "cell_type": "code",
   "execution_count": 1,
   "metadata": {},
   "outputs": [],
   "source": [
    "list = [{'model': 'auth_api.user', 'pk': 199, 'fields': {'password': 'pbkdf2_sha256$120000$ZWsTOyx6pAdj$o2YzlAyLus5dCXKc6wyYTSQcTFU8oNRP54kwE6lOfys=', 'last_login': None, 'is_superuser': False, 'username': 'price', 'first_name': '', 'last_name': '', 'email': 'prfe@price.com', 'is_staff': False, 'is_active': True, 'date_joined': '2019-05-09T07:00:47.721Z', 'user_type': 'Admin', 'company_name': None, 'phone_num': None, 'Des': None, 'owner': None, 'plan': None, 'groups': [], 'user_permissions': []}},\n",
    "{'model': 'auth_api.user', 'pk': 200, 'fields': {'password': 'pbkdf2_sha256$120000$ZWsTOyx6pAdj$o2YzlAyLus5dCXKc6wyYTSQcTFU8oNRP54kwE6lOfys=', 'last_login': None, 'is_superuser': False, 'username': 'price', 'first_name': '', 'last_name': '', 'email': 'prfe@price.com', 'is_staff': False, 'is_active': True, 'date_joined': '2019-05-09T07:00:47.721Z', 'user_type': 'Admin', 'company_name': None, 'phone_num': None, 'Des': None, 'owner': None, 'plan': None, 'groups': [], 'user_permissions': []}}, {'model': 'auth_api.user', 'pk': 199, 'fields': {'password': 'pbkdf2_sha256$120000$ZWsTOyx6pAdj$o2YzlAyLus5dCXKc6wyYTSQcTFU8oNRP54kwE6lOfys=', 'last_login': None, 'is_superuser': False, 'username': 'price', 'first_name': '', 'last_name': '', 'email': 'prfe@price.com', 'is_staff': False, 'is_active': True, 'date_joined': '2019-05-09T07:00:47.721Z', 'user_type': 'Admin', 'company_name': None, 'phone_num': None, 'Des': None, 'owner': None, 'plan': None, 'groups': [], 'user_permissions': []}},\n",
    "{'model': 'auth_api.user', 'pk': 201, 'fields': {'password': 'pbkdf2_sha256$120000$ZWsTOyx6pAdj$o2YzlAyLus5dCXKc6wyYTSQcTFU8oNRP54kwE6lOfys=', 'last_login': None, 'is_superuser': False, 'username': 'price', 'first_name': '', 'last_name': '', 'email': 'prfe@price.com', 'is_staff': False, 'is_active': True, 'date_joined': '2019-05-09T07:00:47.721Z', 'user_type': 'Admin', 'company_name': None, 'phone_num': None, 'Des': None, 'owner': None, 'plan': None, 'groups': [], 'user_permissions': []}}]"
   ]
  },
  {
   "cell_type": "code",
   "execution_count": 34,
   "metadata": {},
   "outputs": [],
   "source": [
    "new_list=[]\n",
    "a = set()\n",
    "for i in list:\n",
    "    if i.get('pk') in a:\n",
    "        continue\n",
    "    else:\n",
    "        new_list.append(i)\n",
    "    a.add(i.get('pk')) "
   ]
  },
  {
   "cell_type": "code",
   "execution_count": 35,
   "metadata": {},
   "outputs": [
    {
     "data": {
      "text/plain": [
       "[{'model': 'auth_api.user',\n",
       "  'pk': 199,\n",
       "  'fields': {'password': 'pbkdf2_sha256$120000$ZWsTOyx6pAdj$o2YzlAyLus5dCXKc6wyYTSQcTFU8oNRP54kwE6lOfys=',\n",
       "   'last_login': None,\n",
       "   'is_superuser': False,\n",
       "   'username': 'price',\n",
       "   'first_name': '',\n",
       "   'last_name': '',\n",
       "   'email': 'prfe@price.com',\n",
       "   'is_staff': False,\n",
       "   'is_active': True,\n",
       "   'date_joined': '2019-05-09T07:00:47.721Z',\n",
       "   'user_type': 'Admin',\n",
       "   'company_name': None,\n",
       "   'phone_num': None,\n",
       "   'Des': None,\n",
       "   'owner': None,\n",
       "   'plan': None,\n",
       "   'groups': [],\n",
       "   'user_permissions': []}},\n",
       " {'model': 'auth_api.user',\n",
       "  'pk': 200,\n",
       "  'fields': {'password': 'pbkdf2_sha256$120000$ZWsTOyx6pAdj$o2YzlAyLus5dCXKc6wyYTSQcTFU8oNRP54kwE6lOfys=',\n",
       "   'last_login': None,\n",
       "   'is_superuser': False,\n",
       "   'username': 'price',\n",
       "   'first_name': '',\n",
       "   'last_name': '',\n",
       "   'email': 'prfe@price.com',\n",
       "   'is_staff': False,\n",
       "   'is_active': True,\n",
       "   'date_joined': '2019-05-09T07:00:47.721Z',\n",
       "   'user_type': 'Admin',\n",
       "   'company_name': None,\n",
       "   'phone_num': None,\n",
       "   'Des': None,\n",
       "   'owner': None,\n",
       "   'plan': None,\n",
       "   'groups': [],\n",
       "   'user_permissions': []}},\n",
       " {'model': 'auth_api.user',\n",
       "  'pk': 201,\n",
       "  'fields': {'password': 'pbkdf2_sha256$120000$ZWsTOyx6pAdj$o2YzlAyLus5dCXKc6wyYTSQcTFU8oNRP54kwE6lOfys=',\n",
       "   'last_login': None,\n",
       "   'is_superuser': False,\n",
       "   'username': 'price',\n",
       "   'first_name': '',\n",
       "   'last_name': '',\n",
       "   'email': 'prfe@price.com',\n",
       "   'is_staff': False,\n",
       "   'is_active': True,\n",
       "   'date_joined': '2019-05-09T07:00:47.721Z',\n",
       "   'user_type': 'Admin',\n",
       "   'company_name': None,\n",
       "   'phone_num': None,\n",
       "   'Des': None,\n",
       "   'owner': None,\n",
       "   'plan': None,\n",
       "   'groups': [],\n",
       "   'user_permissions': []}}]"
      ]
     },
     "execution_count": 35,
     "metadata": {},
     "output_type": "execute_result"
    }
   ],
   "source": [
    "new_list"
   ]
  }
 ],
 "metadata": {
  "kernelspec": {
   "display_name": "Python 3",
   "language": "python",
   "name": "python3"
  },
  "language_info": {
   "codemirror_mode": {
    "name": "ipython",
    "version": 3
   },
   "file_extension": ".py",
   "mimetype": "text/x-python",
   "name": "python",
   "nbconvert_exporter": "python",
   "pygments_lexer": "ipython3",
   "version": "3.7.2"
  }
 },
 "nbformat": 4,
 "nbformat_minor": 2
}
